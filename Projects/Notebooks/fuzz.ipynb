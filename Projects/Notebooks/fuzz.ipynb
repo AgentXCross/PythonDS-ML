{
 "cells": [
  {
   "cell_type": "markdown",
   "id": "2ea6fef0",
   "metadata": {},
   "source": [
    "Matching Strings by Similarity using Levenshtein Distance"
   ]
  },
  {
   "cell_type": "code",
   "execution_count": 1,
   "id": "ab29a7f0",
   "metadata": {},
   "outputs": [],
   "source": [
    "import itertools\n",
    "import pandas as pd\n",
    "from thefuzz import fuzz, process"
   ]
  },
  {
   "cell_type": "code",
   "execution_count": 2,
   "id": "eee308c5",
   "metadata": {},
   "outputs": [],
   "source": [
    "df1 = pd.read_csv('../Data/companies_1.csv')\n",
    "df2 = pd.read_csv('../Data/companies_2.csv')\n",
    "df1.rename(columns = {'CLIENT': 'CSV 1'}, inplace = True)\n",
    "df2.rename(columns = {'Firm Name': 'CSV 2'}, inplace = True)\n",
    "df1 = df1.sort_values(by = 'CSV 1', ascending = True).reset_index(drop = True)\n",
    "df2 = df2.sort_values(by = 'CSV 2', ascending = True).reset_index(drop = True)"
   ]
  },
  {
   "cell_type": "code",
   "execution_count": 5,
   "id": "8e0e9fa7",
   "metadata": {},
   "outputs": [],
   "source": [
    "sim_companies = []\n",
    "for c1 in df1['CSV 1']:\n",
    "    for c2 in df2['CSV 2']:\n",
    "        sim_ratio = fuzz.ratio(c1, c2)\n",
    "        if sim_ratio > 80:\n",
    "            sim_companies.append((c1, c2))"
   ]
  },
  {
   "cell_type": "code",
   "execution_count": 8,
   "id": "d13318a8",
   "metadata": {},
   "outputs": [
    {
     "data": {
      "text/plain": [
       "[('Adidas America, Inc.', 'Adidas America, Inc.'),\n",
       " ('Adobe Systems, Inc.', 'Adobe Systems Inc'),\n",
       " ('Advanced Micro Devices, Inc.', 'Advanced Micro Devices, Inc.'),\n",
       " ('Advanced Micro Devices, Inc.', 'Advanced Micro Devices, Incorporated'),\n",
       " ('Adventist Health', 'Adventist Health'),\n",
       " ('Aerojet Rocketdyne Holdings (GenCorp)',\n",
       "  'Aerojet Rocketdyne Holdings, Inc.'),\n",
       " ('Alameda-Contra Costa Transit District',\n",
       "  'Alameda-Contra Costa Transit District'),\n",
       " ('Alaska Community Foundation', 'Alaska Community Foundation'),\n",
       " ('Alaska Retirement Management Board', 'Alaska Retirement Management Board'),\n",
       " ('Alexander & Baldwin, Inc.', 'Alexander & Baldwin, Inc.'),\n",
       " ('Alexander & Baldwin, Inc.', 'Alexander & Baldwin, Incorporated'),\n",
       " ('Allergan, Inc.', 'Allergan, Inc.'),\n",
       " ('Alphabet Inc.', 'Alphabet Inc.'),\n",
       " ('Amazon Web Services, Inc.', 'Amazon Web Services, Inc.'),\n",
       " ('Amazon Web Services, Inc.', 'Amazon Web Services, Incorporated'),\n",
       " ('Cisco Systems, Inc.', 'Cisco Systems, Inc.'),\n",
       " ('Dropbox, Inc.', 'Dropbox, Inc.'),\n",
       " ('Intel Corporation', 'Intel Corporation'),\n",
       " ('Microsoft Corporation', 'Microsoft Corporation'),\n",
       " ('Netflix, Inc.', 'Net Flix, Inc.'),\n",
       " ('Oracle Corporation', 'Oracle Corporation'),\n",
       " ('Pinterest, Inc.', 'Pinterest, Inc.'),\n",
       " ('Reddit, Inc.', 'Reddit, Inc.'),\n",
       " ('Salesforce.com, Inc.', 'Salesforce.com, Inc.'),\n",
       " ('Snap Inc.', 'Snap Inc.'),\n",
       " ('Twitter, Inc.', 'Twitter, Inc.'),\n",
       " ('Uber Technologies, Inc.', 'Uber Technologies Inc.'),\n",
       " ('VMware, Inc.', 'VM Ware, Inc.')]"
      ]
     },
     "execution_count": 8,
     "metadata": {},
     "output_type": "execute_result"
    }
   ],
   "source": [
    "sim_companies"
   ]
  },
  {
   "cell_type": "code",
   "execution_count": 14,
   "id": "03f23669",
   "metadata": {},
   "outputs": [],
   "source": [
    "#Itertools Product Method\n",
    "combinations = list(itertools.product(df1['CSV 1'], df2['CSV 2']))"
   ]
  },
  {
   "cell_type": "code",
   "execution_count": 25,
   "id": "203438c2",
   "metadata": {},
   "outputs": [
    {
     "data": {
      "text/plain": [
       "[('Adidas America, Inc.', 'Adidas America, Inc.'),\n",
       " ('Adobe Systems, Inc.', 'Adobe Systems Inc'),\n",
       " ('Adobe Systems, Inc.', 'Cisco Systems, Inc.'),\n",
       " ('Advanced Micro Devices, Inc.', 'Advanced Micro Devices, Inc.'),\n",
       " ('Advanced Micro Devices, Inc.', 'Advanced Micro Devices, Incorporated'),\n",
       " ('Adventist Health', 'Adventist Health'),\n",
       " ('Aerojet Rocketdyne Holdings (GenCorp)',\n",
       "  'Aerojet Rocketdyne Holdings, Inc.'),\n",
       " ('Alameda-Contra Costa Transit District',\n",
       "  'Alameda-Contra Costa Transit District'),\n",
       " ('Alaska Community Foundation', 'Alaska Community Foundation'),\n",
       " ('Alaska Retirement Management Board', 'Alaska Retirement Management Board'),\n",
       " ('Alexander & Baldwin, Inc.', 'Alexander & Baldwin, Inc.'),\n",
       " ('Alexander & Baldwin, Inc.', 'Alexander & Baldwin, Incorporated'),\n",
       " ('Allergan, Inc.', 'Allergan, Inc.'),\n",
       " ('Alphabet Inc.', 'Alphabet Inc.'),\n",
       " ('Amazon Web Services, Inc.', 'Amazon Web Services, Inc.'),\n",
       " ('Amazon Web Services, Inc.', 'Amazon Web Services, Incorporated'),\n",
       " ('Cisco Systems, Inc.', 'Cisco Systems, Inc.'),\n",
       " ('Cisco Systems, Inc.', 'Cisco Systems, Incorporated'),\n",
       " ('Dropbox, Inc.', 'Dropbox, Inc.'),\n",
       " ('Intel Corporation', 'Intel Corporation'),\n",
       " ('Microsoft Corporation', 'Microsoft Corporation'),\n",
       " ('Netflix, Inc.', 'Net Flix, Inc.'),\n",
       " ('Oracle Corporation', 'Oracle Corporation'),\n",
       " ('Pinterest, Inc.', 'Pinterest, Inc.'),\n",
       " ('Reddit, Inc.', 'Reddit, Inc.'),\n",
       " ('Salesforce.com, Inc.', 'Salesforce.com, Inc.'),\n",
       " ('Salesforce.com, Inc.', 'Salesforce.com, Incorporated'),\n",
       " ('Snap Inc.', 'Snap Inc.'),\n",
       " ('Twitter, Inc.', 'Twitter, Inc.'),\n",
       " ('Uber Technologies, Inc.', 'Uber Technologies Inc.'),\n",
       " ('VMware, Inc.', 'VM Ware, Inc.')]"
      ]
     },
     "execution_count": 25,
     "metadata": {},
     "output_type": "execute_result"
    }
   ],
   "source": [
    "sim_companies = []\n",
    "for c1, c2 in combinations:\n",
    "    sim_ratio = fuzz.ratio(c1, c2)\n",
    "    if sim_ratio > 75:\n",
    "        sim_companies.append((c1, c2))\n",
    "sim_companies"
   ]
  },
  {
   "cell_type": "code",
   "execution_count": 31,
   "id": "8c8a0a17",
   "metadata": {},
   "outputs": [],
   "source": [
    "df = pd.DataFrame(itertools.product(df1['CSV 1'], df2['CSV 2']), columns = ['CSV 1', 'CSV 2'])"
   ]
  },
  {
   "cell_type": "code",
   "execution_count": 32,
   "id": "c335e581",
   "metadata": {},
   "outputs": [
    {
     "data": {
      "text/html": [
       "<div>\n",
       "<style scoped>\n",
       "    .dataframe tbody tr th:only-of-type {\n",
       "        vertical-align: middle;\n",
       "    }\n",
       "\n",
       "    .dataframe tbody tr th {\n",
       "        vertical-align: top;\n",
       "    }\n",
       "\n",
       "    .dataframe thead th {\n",
       "        text-align: right;\n",
       "    }\n",
       "</style>\n",
       "<table border=\"1\" class=\"dataframe\">\n",
       "  <thead>\n",
       "    <tr style=\"text-align: right;\">\n",
       "      <th></th>\n",
       "      <th>CSV 1</th>\n",
       "      <th>CSV 2</th>\n",
       "    </tr>\n",
       "  </thead>\n",
       "  <tbody>\n",
       "    <tr>\n",
       "      <th>0</th>\n",
       "      <td>AECOM</td>\n",
       "      <td>AECOM Technology Corporation</td>\n",
       "    </tr>\n",
       "    <tr>\n",
       "      <th>1</th>\n",
       "      <td>AECOM</td>\n",
       "      <td>Adidas America, Inc.</td>\n",
       "    </tr>\n",
       "    <tr>\n",
       "      <th>2</th>\n",
       "      <td>AECOM</td>\n",
       "      <td>Adobe Systems Inc</td>\n",
       "    </tr>\n",
       "    <tr>\n",
       "      <th>3</th>\n",
       "      <td>AECOM</td>\n",
       "      <td>Advanced Micro Devices, Inc.</td>\n",
       "    </tr>\n",
       "    <tr>\n",
       "      <th>4</th>\n",
       "      <td>AECOM</td>\n",
       "      <td>Advanced Micro Devices, Incorporated</td>\n",
       "    </tr>\n",
       "  </tbody>\n",
       "</table>\n",
       "</div>"
      ],
      "text/plain": [
       "   CSV 1                                 CSV 2\n",
       "0  AECOM          AECOM Technology Corporation\n",
       "1  AECOM                  Adidas America, Inc.\n",
       "2  AECOM                     Adobe Systems Inc\n",
       "3  AECOM          Advanced Micro Devices, Inc.\n",
       "4  AECOM  Advanced Micro Devices, Incorporated"
      ]
     },
     "execution_count": 32,
     "metadata": {},
     "output_type": "execute_result"
    }
   ],
   "source": [
    "df.head()"
   ]
  },
  {
   "cell_type": "code",
   "execution_count": 33,
   "id": "7b10b910",
   "metadata": {},
   "outputs": [
    {
     "data": {
      "text/plain": [
       "100"
      ]
     },
     "execution_count": 33,
     "metadata": {},
     "output_type": "execute_result"
    }
   ],
   "source": [
    "#Calculating the Levenshtein Distance\n",
    "fuzz.partial_ratio('Apple Inc.', 'Apple')"
   ]
  },
  {
   "cell_type": "code",
   "execution_count": 34,
   "id": "26304c82",
   "metadata": {},
   "outputs": [
    {
     "data": {
      "text/plain": [
       "67"
      ]
     },
     "execution_count": 34,
     "metadata": {},
     "output_type": "execute_result"
    }
   ],
   "source": [
    "fuzz.partial_ratio('Apple Inc.', 'Microsoft Inc.')"
   ]
  },
  {
   "cell_type": "code",
   "execution_count": 37,
   "id": "17c2b61c",
   "metadata": {},
   "outputs": [],
   "source": [
    "df['Ratio Score'] = df.apply(lambda row: fuzz.partial_ratio(row['CSV 1'], row['CSV 2']), axis = 1)"
   ]
  },
  {
   "cell_type": "code",
   "execution_count": 42,
   "id": "fcdec934",
   "metadata": {},
   "outputs": [
    {
     "data": {
      "text/html": [
       "<div>\n",
       "<style scoped>\n",
       "    .dataframe tbody tr th:only-of-type {\n",
       "        vertical-align: middle;\n",
       "    }\n",
       "\n",
       "    .dataframe tbody tr th {\n",
       "        vertical-align: top;\n",
       "    }\n",
       "\n",
       "    .dataframe thead th {\n",
       "        text-align: right;\n",
       "    }\n",
       "</style>\n",
       "<table border=\"1\" class=\"dataframe\">\n",
       "  <thead>\n",
       "    <tr style=\"text-align: right;\">\n",
       "      <th></th>\n",
       "      <th>CSV 1</th>\n",
       "      <th>CSV 2</th>\n",
       "      <th>Ratio Score</th>\n",
       "    </tr>\n",
       "  </thead>\n",
       "  <tbody>\n",
       "    <tr>\n",
       "      <th>598</th>\n",
       "      <td>Atlassian Corporation Plc</td>\n",
       "      <td>Microsoft Corporation</td>\n",
       "      <td>65</td>\n",
       "    </tr>\n",
       "    <tr>\n",
       "      <th>761</th>\n",
       "      <td>DoorDash, Inc.</td>\n",
       "      <td>Intel Corporation</td>\n",
       "      <td>42</td>\n",
       "    </tr>\n",
       "    <tr>\n",
       "      <th>1375</th>\n",
       "      <td>Spotify Technology S.A.</td>\n",
       "      <td>Facebook, Inc.</td>\n",
       "      <td>37</td>\n",
       "    </tr>\n",
       "    <tr>\n",
       "      <th>424</th>\n",
       "      <td>Allergan, Inc.</td>\n",
       "      <td>Alphabet Incorporated</td>\n",
       "      <td>54</td>\n",
       "    </tr>\n",
       "    <tr>\n",
       "      <th>1370</th>\n",
       "      <td>Spotify Technology S.A.</td>\n",
       "      <td>Apple Incorporated</td>\n",
       "      <td>29</td>\n",
       "    </tr>\n",
       "    <tr>\n",
       "      <th>608</th>\n",
       "      <td>Atlassian Corporation Plc</td>\n",
       "      <td>Snap Incorporated</td>\n",
       "      <td>53</td>\n",
       "    </tr>\n",
       "    <tr>\n",
       "      <th>407</th>\n",
       "      <td>Alexander &amp; Baldwin, Inc.</td>\n",
       "      <td>Uber Technologies Inc.</td>\n",
       "      <td>50</td>\n",
       "    </tr>\n",
       "    <tr>\n",
       "      <th>453</th>\n",
       "      <td>Alphabet Inc.</td>\n",
       "      <td>Adobe Systems Inc</td>\n",
       "      <td>50</td>\n",
       "    </tr>\n",
       "    <tr>\n",
       "      <th>178</th>\n",
       "      <td>Adventist Health</td>\n",
       "      <td>Alphabet Incorporated</td>\n",
       "      <td>32</td>\n",
       "    </tr>\n",
       "    <tr>\n",
       "      <th>1262</th>\n",
       "      <td>Shopify Inc.</td>\n",
       "      <td>Salesforce.com, Incorporated</td>\n",
       "      <td>42</td>\n",
       "    </tr>\n",
       "  </tbody>\n",
       "</table>\n",
       "</div>"
      ],
      "text/plain": [
       "                          CSV 1                         CSV 2  Ratio Score\n",
       "598   Atlassian Corporation Plc         Microsoft Corporation           65\n",
       "761              DoorDash, Inc.             Intel Corporation           42\n",
       "1375    Spotify Technology S.A.                Facebook, Inc.           37\n",
       "424              Allergan, Inc.         Alphabet Incorporated           54\n",
       "1370    Spotify Technology S.A.            Apple Incorporated           29\n",
       "608   Atlassian Corporation Plc             Snap Incorporated           53\n",
       "407   Alexander & Baldwin, Inc.        Uber Technologies Inc.           50\n",
       "453               Alphabet Inc.             Adobe Systems Inc           50\n",
       "178            Adventist Health         Alphabet Incorporated           32\n",
       "1262               Shopify Inc.  Salesforce.com, Incorporated           42"
      ]
     },
     "execution_count": 42,
     "metadata": {},
     "output_type": "execute_result"
    }
   ],
   "source": [
    "df.sample(10)"
   ]
  },
  {
   "cell_type": "code",
   "execution_count": 58,
   "id": "8365d7d1",
   "metadata": {},
   "outputs": [
    {
     "data": {
      "text/html": [
       "<div>\n",
       "<style scoped>\n",
       "    .dataframe tbody tr th:only-of-type {\n",
       "        vertical-align: middle;\n",
       "    }\n",
       "\n",
       "    .dataframe tbody tr th {\n",
       "        vertical-align: top;\n",
       "    }\n",
       "\n",
       "    .dataframe thead th {\n",
       "        text-align: right;\n",
       "    }\n",
       "</style>\n",
       "<table border=\"1\" class=\"dataframe\">\n",
       "  <thead>\n",
       "    <tr style=\"text-align: right;\">\n",
       "      <th></th>\n",
       "      <th>CSV 1</th>\n",
       "      <th>CSV 2</th>\n",
       "      <th>Ratio Score</th>\n",
       "    </tr>\n",
       "  </thead>\n",
       "  <tbody>\n",
       "    <tr>\n",
       "      <th>42</th>\n",
       "      <td>Adidas America, Inc.</td>\n",
       "      <td>Adidas America, Inc.</td>\n",
       "      <td>100</td>\n",
       "    </tr>\n",
       "    <tr>\n",
       "      <th>633</th>\n",
       "      <td>Cisco Systems, Inc.</td>\n",
       "      <td>Cisco Systems, Inc.</td>\n",
       "      <td>100</td>\n",
       "    </tr>\n",
       "    <tr>\n",
       "      <th>1513</th>\n",
       "      <td>Twitter, Inc.</td>\n",
       "      <td>Twitter, Incorporated</td>\n",
       "      <td>96</td>\n",
       "    </tr>\n",
       "    <tr>\n",
       "      <th>1178</th>\n",
       "      <td>Reddit, Inc.</td>\n",
       "      <td>Reddit, Incorporated</td>\n",
       "      <td>96</td>\n",
       "    </tr>\n",
       "    <tr>\n",
       "      <th>0</th>\n",
       "      <td>AECOM</td>\n",
       "      <td>AECOM Technology Corporation</td>\n",
       "      <td>100</td>\n",
       "    </tr>\n",
       "    <tr>\n",
       "      <th>507</th>\n",
       "      <td>Amazon Web Services, Inc.</td>\n",
       "      <td>Amazon Web Services, Inc.</td>\n",
       "      <td>100</td>\n",
       "    </tr>\n",
       "    <tr>\n",
       "      <th>1135</th>\n",
       "      <td>Pinterest, Inc.</td>\n",
       "      <td>Pinterest, Incorporated</td>\n",
       "      <td>97</td>\n",
       "    </tr>\n",
       "    <tr>\n",
       "      <th>1512</th>\n",
       "      <td>Twitter, Inc.</td>\n",
       "      <td>Twitter, Inc.</td>\n",
       "      <td>100</td>\n",
       "    </tr>\n",
       "    <tr>\n",
       "      <th>379</th>\n",
       "      <td>Alexander &amp; Baldwin, Inc.</td>\n",
       "      <td>Alexander &amp; Baldwin, Inc.</td>\n",
       "      <td>100</td>\n",
       "    </tr>\n",
       "    <tr>\n",
       "      <th>1555</th>\n",
       "      <td>Uber Technologies, Inc.</td>\n",
       "      <td>Uber Technologies Inc.</td>\n",
       "      <td>95</td>\n",
       "    </tr>\n",
       "  </tbody>\n",
       "</table>\n",
       "</div>"
      ],
      "text/plain": [
       "                          CSV 1                         CSV 2  Ratio Score\n",
       "42         Adidas America, Inc.          Adidas America, Inc.          100\n",
       "633         Cisco Systems, Inc.           Cisco Systems, Inc.          100\n",
       "1513              Twitter, Inc.         Twitter, Incorporated           96\n",
       "1178               Reddit, Inc.          Reddit, Incorporated           96\n",
       "0                         AECOM  AECOM Technology Corporation          100\n",
       "507   Amazon Web Services, Inc.     Amazon Web Services, Inc.          100\n",
       "1135            Pinterest, Inc.       Pinterest, Incorporated           97\n",
       "1512              Twitter, Inc.                 Twitter, Inc.          100\n",
       "379   Alexander & Baldwin, Inc.     Alexander & Baldwin, Inc.          100\n",
       "1555    Uber Technologies, Inc.        Uber Technologies Inc.           95"
      ]
     },
     "execution_count": 58,
     "metadata": {},
     "output_type": "execute_result"
    }
   ],
   "source": [
    "df.loc[(df['Ratio Score'] > 90)].sample(10)"
   ]
  },
  {
   "cell_type": "code",
   "execution_count": 62,
   "id": "85d90b83",
   "metadata": {},
   "outputs": [
    {
     "data": {
      "text/plain": [
       "(17, 3)"
      ]
     },
     "execution_count": 62,
     "metadata": {},
     "output_type": "execute_result"
    }
   ],
   "source": [
    "df.loc[(df['Ratio Score'] >= 90) & (df['CSV 1'] != df['CSV 2'])].shape"
   ]
  },
  {
   "cell_type": "code",
   "execution_count": 63,
   "id": "1a0c90df",
   "metadata": {},
   "outputs": [
    {
     "data": {
      "text/html": [
       "<div>\n",
       "<style scoped>\n",
       "    .dataframe tbody tr th:only-of-type {\n",
       "        vertical-align: middle;\n",
       "    }\n",
       "\n",
       "    .dataframe tbody tr th {\n",
       "        vertical-align: top;\n",
       "    }\n",
       "\n",
       "    .dataframe thead th {\n",
       "        text-align: right;\n",
       "    }\n",
       "</style>\n",
       "<table border=\"1\" class=\"dataframe\">\n",
       "  <thead>\n",
       "    <tr style=\"text-align: right;\">\n",
       "      <th></th>\n",
       "      <th>CSV 1</th>\n",
       "      <th>CSV 2</th>\n",
       "      <th>Ratio Score</th>\n",
       "    </tr>\n",
       "  </thead>\n",
       "  <tbody>\n",
       "    <tr>\n",
       "      <th>0</th>\n",
       "      <td>AECOM</td>\n",
       "      <td>AECOM Technology Corporation</td>\n",
       "      <td>100</td>\n",
       "    </tr>\n",
       "    <tr>\n",
       "      <th>84</th>\n",
       "      <td>Adobe Systems, Inc.</td>\n",
       "      <td>Adobe Systems Inc</td>\n",
       "      <td>94</td>\n",
       "    </tr>\n",
       "    <tr>\n",
       "      <th>127</th>\n",
       "      <td>Advanced Micro Devices, Inc.</td>\n",
       "      <td>Advanced Micro Devices, Incorporated</td>\n",
       "      <td>98</td>\n",
       "    </tr>\n",
       "    <tr>\n",
       "      <th>211</th>\n",
       "      <td>Aerojet Rocketdyne Holdings (GenCorp)</td>\n",
       "      <td>Aerojet Rocketdyne Holdings, Inc.</td>\n",
       "      <td>92</td>\n",
       "    </tr>\n",
       "    <tr>\n",
       "      <th>380</th>\n",
       "      <td>Alexander &amp; Baldwin, Inc.</td>\n",
       "      <td>Alexander &amp; Baldwin, Incorporated</td>\n",
       "      <td>98</td>\n",
       "    </tr>\n",
       "    <tr>\n",
       "      <th>465</th>\n",
       "      <td>Alphabet Inc.</td>\n",
       "      <td>Alphabet Incorporated</td>\n",
       "      <td>96</td>\n",
       "    </tr>\n",
       "    <tr>\n",
       "      <th>508</th>\n",
       "      <td>Amazon Web Services, Inc.</td>\n",
       "      <td>Amazon Web Services, Incorporated</td>\n",
       "      <td>98</td>\n",
       "    </tr>\n",
       "    <tr>\n",
       "      <th>550</th>\n",
       "      <td>Apple Inc.</td>\n",
       "      <td>Apple Incorporated</td>\n",
       "      <td>95</td>\n",
       "    </tr>\n",
       "    <tr>\n",
       "      <th>634</th>\n",
       "      <td>Cisco Systems, Inc.</td>\n",
       "      <td>Cisco Systems, Incorporated</td>\n",
       "      <td>97</td>\n",
       "    </tr>\n",
       "    <tr>\n",
       "      <th>800</th>\n",
       "      <td>Dropbox, Inc.</td>\n",
       "      <td>Dropbox, Incorporated</td>\n",
       "      <td>96</td>\n",
       "    </tr>\n",
       "    <tr>\n",
       "      <th>1135</th>\n",
       "      <td>Pinterest, Inc.</td>\n",
       "      <td>Pinterest, Incorporated</td>\n",
       "      <td>97</td>\n",
       "    </tr>\n",
       "    <tr>\n",
       "      <th>1178</th>\n",
       "      <td>Reddit, Inc.</td>\n",
       "      <td>Reddit, Incorporated</td>\n",
       "      <td>96</td>\n",
       "    </tr>\n",
       "    <tr>\n",
       "      <th>1221</th>\n",
       "      <td>Salesforce.com, Inc.</td>\n",
       "      <td>Salesforce.com, Incorporated</td>\n",
       "      <td>97</td>\n",
       "    </tr>\n",
       "    <tr>\n",
       "      <th>1305</th>\n",
       "      <td>Snap Inc.</td>\n",
       "      <td>Snap Incorporated</td>\n",
       "      <td>94</td>\n",
       "    </tr>\n",
       "    <tr>\n",
       "      <th>1513</th>\n",
       "      <td>Twitter, Inc.</td>\n",
       "      <td>Twitter, Incorporated</td>\n",
       "      <td>96</td>\n",
       "    </tr>\n",
       "    <tr>\n",
       "      <th>1555</th>\n",
       "      <td>Uber Technologies, Inc.</td>\n",
       "      <td>Uber Technologies Inc.</td>\n",
       "      <td>95</td>\n",
       "    </tr>\n",
       "    <tr>\n",
       "      <th>1678</th>\n",
       "      <td>ZoomInfo Technologies Inc.</td>\n",
       "      <td>Uber Technologies Inc.</td>\n",
       "      <td>90</td>\n",
       "    </tr>\n",
       "  </tbody>\n",
       "</table>\n",
       "</div>"
      ],
      "text/plain": [
       "                                      CSV 1  \\\n",
       "0                                     AECOM   \n",
       "84                      Adobe Systems, Inc.   \n",
       "127            Advanced Micro Devices, Inc.   \n",
       "211   Aerojet Rocketdyne Holdings (GenCorp)   \n",
       "380               Alexander & Baldwin, Inc.   \n",
       "465                           Alphabet Inc.   \n",
       "508               Amazon Web Services, Inc.   \n",
       "550                              Apple Inc.   \n",
       "634                     Cisco Systems, Inc.   \n",
       "800                           Dropbox, Inc.   \n",
       "1135                        Pinterest, Inc.   \n",
       "1178                           Reddit, Inc.   \n",
       "1221                   Salesforce.com, Inc.   \n",
       "1305                              Snap Inc.   \n",
       "1513                          Twitter, Inc.   \n",
       "1555                Uber Technologies, Inc.   \n",
       "1678             ZoomInfo Technologies Inc.   \n",
       "\n",
       "                                     CSV 2  Ratio Score  \n",
       "0             AECOM Technology Corporation          100  \n",
       "84                       Adobe Systems Inc           94  \n",
       "127   Advanced Micro Devices, Incorporated           98  \n",
       "211      Aerojet Rocketdyne Holdings, Inc.           92  \n",
       "380      Alexander & Baldwin, Incorporated           98  \n",
       "465                  Alphabet Incorporated           96  \n",
       "508      Amazon Web Services, Incorporated           98  \n",
       "550                     Apple Incorporated           95  \n",
       "634            Cisco Systems, Incorporated           97  \n",
       "800                  Dropbox, Incorporated           96  \n",
       "1135               Pinterest, Incorporated           97  \n",
       "1178                  Reddit, Incorporated           96  \n",
       "1221          Salesforce.com, Incorporated           97  \n",
       "1305                     Snap Incorporated           94  \n",
       "1513                 Twitter, Incorporated           96  \n",
       "1555                Uber Technologies Inc.           95  \n",
       "1678                Uber Technologies Inc.           90  "
      ]
     },
     "execution_count": 63,
     "metadata": {},
     "output_type": "execute_result"
    }
   ],
   "source": [
    "df.loc[(df['Ratio Score'] >= 90) & (df['CSV 1'] != df['CSV 2'])]"
   ]
  },
  {
   "cell_type": "code",
   "execution_count": 65,
   "id": "972de914",
   "metadata": {},
   "outputs": [
    {
     "data": {
      "text/plain": [
       "<Axes: ylabel='Frequency'>"
      ]
     },
     "execution_count": 65,
     "metadata": {},
     "output_type": "execute_result"
    },
    {
     "data": {
      "image/png": "[encoded data removed]",
      "text/plain": [
       "<Figure size 640x480 with 1 Axes>"
      ]
     },
     "metadata": {},
     "output_type": "display_data"
    }
   ],
   "source": [
    "df.loc[(df['Ratio Score'] >= 90) & (df['CSV 1'] != df['CSV 2'])].plot(kind = 'hist')"
   ]
  },
  {
   "cell_type": "code",
   "execution_count": 66,
   "id": "19c43660",
   "metadata": {},
   "outputs": [
    {
     "data": {
      "text/plain": [
       "<Axes: >"
      ]
     },
     "execution_count": 66,
     "metadata": {},
     "output_type": "execute_result"
    },
    {
     "data": {
      "image/png": "[encoded data removed]",
      "text/plain": [
       "<Figure size 640x480 with 1 Axes>"
      ]
     },
     "metadata": {},
     "output_type": "display_data"
    }
   ],
   "source": [
    "df.loc[(df['Ratio Score'] >= 90) & (df['CSV 1'] != df['CSV 2'])].plot(kind = 'box')"
   ]
  }
 ],
 "metadata": {
  "kernelspec": {
   "display_name": "Python 3",
   "language": "python",
   "name": "python3"
  },
  "language_info": {
   "codemirror_mode": {
    "name": "ipython",
    "version": 3
   },
   "file_extension": ".py",
   "mimetype": "text/x-python",
   "name": "python",
   "nbconvert_exporter": "python",
   "pygments_lexer": "ipython3",
   "version": "3.13.1"
  }
 },
 "nbformat": 4,
 "nbformat_minor": 5
}
