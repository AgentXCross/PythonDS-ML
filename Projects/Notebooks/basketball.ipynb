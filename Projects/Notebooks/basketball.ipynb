{
 "cells": [
  {
   "cell_type": "markdown",
   "id": "b0345c6b",
   "metadata": {},
   "source": [
    "Basketball Birthday Paradox"
   ]
  },
  {
   "cell_type": "code",
   "execution_count": 21,
   "id": "b826830f",
   "metadata": {},
   "outputs": [],
   "source": [
    "#Birthday Paradox Function\n",
    "def birthday_probability(n):\n",
    "    pass"
   ]
  },
  {
   "cell_type": "code",
   "execution_count": 22,
   "id": "4e7e6625",
   "metadata": {},
   "outputs": [],
   "source": [
    "import pandas as pd\n",
    "import numpy as np\n",
    "import matplotlib.pyplot as plt\n",
    "import seaborn as sns"
   ]
  },
  {
   "cell_type": "code",
   "execution_count": 23,
   "id": "e3dc8feb",
   "metadata": {},
   "outputs": [],
   "source": [
    "#NBA Paradox Analysis\n",
    "df = pd.read_csv('../Data/basketball_players.csv')\n",
    "df.drop(columns = ['year_start', 'year_end', 'height', 'weight'], inplace = True)"
   ]
  },
  {
   "cell_type": "code",
   "execution_count": 24,
   "id": "c63b4c2d",
   "metadata": {},
   "outputs": [
    {
     "data": {
      "text/html": [
       "<div>\n",
       "<style scoped>\n",
       "    .dataframe tbody tr th:only-of-type {\n",
       "        vertical-align: middle;\n",
       "    }\n",
       "\n",
       "    .dataframe tbody tr th {\n",
       "        vertical-align: top;\n",
       "    }\n",
       "\n",
       "    .dataframe thead th {\n",
       "        text-align: right;\n",
       "    }\n",
       "</style>\n",
       "<table border=\"1\" class=\"dataframe\">\n",
       "  <thead>\n",
       "    <tr style=\"text-align: right;\">\n",
       "      <th></th>\n",
       "      <th>name</th>\n",
       "      <th>position</th>\n",
       "      <th>birth_date</th>\n",
       "      <th>college</th>\n",
       "    </tr>\n",
       "  </thead>\n",
       "  <tbody>\n",
       "    <tr>\n",
       "      <th>0</th>\n",
       "      <td>Alaa Abdelnaby</td>\n",
       "      <td>F-C</td>\n",
       "      <td>June 24, 1968</td>\n",
       "      <td>Duke University</td>\n",
       "    </tr>\n",
       "    <tr>\n",
       "      <th>1</th>\n",
       "      <td>Zaid Abdul-Aziz</td>\n",
       "      <td>C-F</td>\n",
       "      <td>April 7, 1946</td>\n",
       "      <td>Iowa State University</td>\n",
       "    </tr>\n",
       "    <tr>\n",
       "      <th>2</th>\n",
       "      <td>Kareem Abdul-Jabbar</td>\n",
       "      <td>C</td>\n",
       "      <td>April 16, 1947</td>\n",
       "      <td>University of California, Los Angeles</td>\n",
       "    </tr>\n",
       "    <tr>\n",
       "      <th>3</th>\n",
       "      <td>Mahmoud Abdul-Rauf</td>\n",
       "      <td>G</td>\n",
       "      <td>March 9, 1969</td>\n",
       "      <td>Louisiana State University</td>\n",
       "    </tr>\n",
       "    <tr>\n",
       "      <th>4</th>\n",
       "      <td>Tariq Abdul-Wahad</td>\n",
       "      <td>F</td>\n",
       "      <td>November 3, 1974</td>\n",
       "      <td>San Jose State University</td>\n",
       "    </tr>\n",
       "  </tbody>\n",
       "</table>\n",
       "</div>"
      ],
      "text/plain": [
       "                  name position        birth_date  \\\n",
       "0       Alaa Abdelnaby      F-C     June 24, 1968   \n",
       "1      Zaid Abdul-Aziz      C-F     April 7, 1946   \n",
       "2  Kareem Abdul-Jabbar        C    April 16, 1947   \n",
       "3   Mahmoud Abdul-Rauf        G     March 9, 1969   \n",
       "4    Tariq Abdul-Wahad        F  November 3, 1974   \n",
       "\n",
       "                                 college  \n",
       "0                        Duke University  \n",
       "1                  Iowa State University  \n",
       "2  University of California, Los Angeles  \n",
       "3             Louisiana State University  \n",
       "4              San Jose State University  "
      ]
     },
     "execution_count": 24,
     "metadata": {},
     "output_type": "execute_result"
    }
   ],
   "source": [
    "df.head()"
   ]
  },
  {
   "cell_type": "code",
   "execution_count": 25,
   "id": "fc31e622",
   "metadata": {},
   "outputs": [],
   "source": [
    "#Convert birth_date to datetime type\n",
    "df['birth_date'] = pd.to_datetime(df['birth_date'], format = '%B %d, %Y')"
   ]
  },
  {
   "cell_type": "code",
   "execution_count": 26,
   "id": "7d7b2c55",
   "metadata": {},
   "outputs": [
    {
     "data": {
      "text/html": [
       "<div>\n",
       "<style scoped>\n",
       "    .dataframe tbody tr th:only-of-type {\n",
       "        vertical-align: middle;\n",
       "    }\n",
       "\n",
       "    .dataframe tbody tr th {\n",
       "        vertical-align: top;\n",
       "    }\n",
       "\n",
       "    .dataframe thead th {\n",
       "        text-align: right;\n",
       "    }\n",
       "</style>\n",
       "<table border=\"1\" class=\"dataframe\">\n",
       "  <thead>\n",
       "    <tr style=\"text-align: right;\">\n",
       "      <th></th>\n",
       "      <th>name</th>\n",
       "      <th>position</th>\n",
       "      <th>birth_date</th>\n",
       "      <th>college</th>\n",
       "    </tr>\n",
       "  </thead>\n",
       "  <tbody>\n",
       "    <tr>\n",
       "      <th>9</th>\n",
       "      <td>Alex Abrines</td>\n",
       "      <td>G-F</td>\n",
       "      <td>1993-08-01</td>\n",
       "      <td>NaN</td>\n",
       "    </tr>\n",
       "    <tr>\n",
       "      <th>32</th>\n",
       "      <td>Alexis Ajinca</td>\n",
       "      <td>C</td>\n",
       "      <td>1988-05-06</td>\n",
       "      <td>NaN</td>\n",
       "    </tr>\n",
       "    <tr>\n",
       "      <th>38</th>\n",
       "      <td>Furkan Aldemir</td>\n",
       "      <td>F-C</td>\n",
       "      <td>1991-08-09</td>\n",
       "      <td>NaN</td>\n",
       "    </tr>\n",
       "    <tr>\n",
       "      <th>74</th>\n",
       "      <td>David Andersen</td>\n",
       "      <td>C</td>\n",
       "      <td>1980-06-23</td>\n",
       "      <td>NaN</td>\n",
       "    </tr>\n",
       "    <tr>\n",
       "      <th>100</th>\n",
       "      <td>Martynas Andriuskevicius</td>\n",
       "      <td>C</td>\n",
       "      <td>1986-03-12</td>\n",
       "      <td>NaN</td>\n",
       "    </tr>\n",
       "    <tr>\n",
       "      <th>...</th>\n",
       "      <td>...</td>\n",
       "      <td>...</td>\n",
       "      <td>...</td>\n",
       "      <td>...</td>\n",
       "    </tr>\n",
       "    <tr>\n",
       "      <th>4529</th>\n",
       "      <td>Sun Yue</td>\n",
       "      <td>G</td>\n",
       "      <td>1985-11-06</td>\n",
       "      <td>NaN</td>\n",
       "    </tr>\n",
       "    <tr>\n",
       "      <th>4540</th>\n",
       "      <td>Wang Zhizhi</td>\n",
       "      <td>C</td>\n",
       "      <td>1977-07-08</td>\n",
       "      <td>NaN</td>\n",
       "    </tr>\n",
       "    <tr>\n",
       "      <th>4544</th>\n",
       "      <td>Paul Zipser</td>\n",
       "      <td>G-F</td>\n",
       "      <td>1994-02-18</td>\n",
       "      <td>NaN</td>\n",
       "    </tr>\n",
       "    <tr>\n",
       "      <th>4545</th>\n",
       "      <td>Ante Zizic</td>\n",
       "      <td>F-C</td>\n",
       "      <td>1997-01-04</td>\n",
       "      <td>NaN</td>\n",
       "    </tr>\n",
       "    <tr>\n",
       "      <th>4548</th>\n",
       "      <td>Ivica Zubac</td>\n",
       "      <td>C</td>\n",
       "      <td>1997-03-18</td>\n",
       "      <td>NaN</td>\n",
       "    </tr>\n",
       "  </tbody>\n",
       "</table>\n",
       "<p>302 rows × 4 columns</p>\n",
       "</div>"
      ],
      "text/plain": [
       "                          name position birth_date college\n",
       "9                 Alex Abrines      G-F 1993-08-01     NaN\n",
       "32               Alexis Ajinca        C 1988-05-06     NaN\n",
       "38              Furkan Aldemir      F-C 1991-08-09     NaN\n",
       "74              David Andersen        C 1980-06-23     NaN\n",
       "100   Martynas Andriuskevicius        C 1986-03-12     NaN\n",
       "...                        ...      ...        ...     ...\n",
       "4529                   Sun Yue        G 1985-11-06     NaN\n",
       "4540               Wang Zhizhi        C 1977-07-08     NaN\n",
       "4544               Paul Zipser      G-F 1994-02-18     NaN\n",
       "4545                Ante Zizic      F-C 1997-01-04     NaN\n",
       "4548               Ivica Zubac        C 1997-03-18     NaN\n",
       "\n",
       "[302 rows x 4 columns]"
      ]
     },
     "execution_count": 26,
     "metadata": {},
     "output_type": "execute_result"
    }
   ],
   "source": [
    "df.loc[df['college'].isnull()]"
   ]
  },
  {
   "cell_type": "code",
   "execution_count": 27,
   "id": "d90c5486",
   "metadata": {},
   "outputs": [
    {
     "data": {
      "text/plain": [
       "0                             Duke University\n",
       "1                       Iowa State University\n",
       "2       University of California, Los Angeles\n",
       "3                  Louisiana State University\n",
       "4                   San Jose State University\n",
       "                        ...                  \n",
       "4545                                     None\n",
       "4546                    Kent State University\n",
       "4547                      Duquesne University\n",
       "4548                                     None\n",
       "4549             George Washington University\n",
       "Name: college, Length: 4550, dtype: object"
      ]
     },
     "execution_count": 27,
     "metadata": {},
     "output_type": "execute_result"
    }
   ],
   "source": [
    "df['college'].fillna('None')"
   ]
  },
  {
   "cell_type": "code",
   "execution_count": 28,
   "id": "0f61a002",
   "metadata": {},
   "outputs": [
    {
     "data": {
      "text/html": [
       "<div>\n",
       "<style scoped>\n",
       "    .dataframe tbody tr th:only-of-type {\n",
       "        vertical-align: middle;\n",
       "    }\n",
       "\n",
       "    .dataframe tbody tr th {\n",
       "        vertical-align: top;\n",
       "    }\n",
       "\n",
       "    .dataframe thead th {\n",
       "        text-align: right;\n",
       "    }\n",
       "</style>\n",
       "<table border=\"1\" class=\"dataframe\">\n",
       "  <thead>\n",
       "    <tr style=\"text-align: right;\">\n",
       "      <th></th>\n",
       "      <th>name</th>\n",
       "      <th>position</th>\n",
       "      <th>birth_date</th>\n",
       "      <th>college</th>\n",
       "    </tr>\n",
       "  </thead>\n",
       "  <tbody>\n",
       "    <tr>\n",
       "      <th>0</th>\n",
       "      <td>Alaa Abdelnaby</td>\n",
       "      <td>F-C</td>\n",
       "      <td>1968-06-24</td>\n",
       "      <td>Duke University</td>\n",
       "    </tr>\n",
       "    <tr>\n",
       "      <th>1</th>\n",
       "      <td>Zaid Abdul-Aziz</td>\n",
       "      <td>C-F</td>\n",
       "      <td>1946-04-07</td>\n",
       "      <td>Iowa State University</td>\n",
       "    </tr>\n",
       "    <tr>\n",
       "      <th>2</th>\n",
       "      <td>Kareem Abdul-Jabbar</td>\n",
       "      <td>C</td>\n",
       "      <td>1947-04-16</td>\n",
       "      <td>University of California, Los Angeles</td>\n",
       "    </tr>\n",
       "    <tr>\n",
       "      <th>3</th>\n",
       "      <td>Mahmoud Abdul-Rauf</td>\n",
       "      <td>G</td>\n",
       "      <td>1969-03-09</td>\n",
       "      <td>Louisiana State University</td>\n",
       "    </tr>\n",
       "    <tr>\n",
       "      <th>4</th>\n",
       "      <td>Tariq Abdul-Wahad</td>\n",
       "      <td>F</td>\n",
       "      <td>1974-11-03</td>\n",
       "      <td>San Jose State University</td>\n",
       "    </tr>\n",
       "  </tbody>\n",
       "</table>\n",
       "</div>"
      ],
      "text/plain": [
       "                  name position birth_date  \\\n",
       "0       Alaa Abdelnaby      F-C 1968-06-24   \n",
       "1      Zaid Abdul-Aziz      C-F 1946-04-07   \n",
       "2  Kareem Abdul-Jabbar        C 1947-04-16   \n",
       "3   Mahmoud Abdul-Rauf        G 1969-03-09   \n",
       "4    Tariq Abdul-Wahad        F 1974-11-03   \n",
       "\n",
       "                                 college  \n",
       "0                        Duke University  \n",
       "1                  Iowa State University  \n",
       "2  University of California, Los Angeles  \n",
       "3             Louisiana State University  \n",
       "4              San Jose State University  "
      ]
     },
     "execution_count": 28,
     "metadata": {},
     "output_type": "execute_result"
    }
   ],
   "source": [
    "df.head()"
   ]
  },
  {
   "cell_type": "code",
   "execution_count": 32,
   "id": "315628af",
   "metadata": {},
   "outputs": [
    {
     "data": {
      "text/plain": [
       "college\n",
       "University of Kentucky                   99\n",
       "University of California, Los Angeles    91\n",
       "University of North Carolina             87\n",
       "University of Kansas                     72\n",
       "Duke University                          71\n",
       "                                         ..\n",
       "Northwood Institute                       1\n",
       "Ohio Wesleyan University                  1\n",
       "Okaloosa-Walton Community College         1\n",
       "Alabama - Huntsville                      1\n",
       "Youngstown State University               1\n",
       "Name: count, Length: 473, dtype: int64"
      ]
     },
     "execution_count": 32,
     "metadata": {},
     "output_type": "execute_result"
    }
   ],
   "source": [
    "df.groupby('college')['college'].value_counts().sort_values(ascending = False)"
   ]
  }
 ],
 "metadata": {
  "kernelspec": {
   "display_name": "Python 3",
   "language": "python",
   "name": "python3"
  },
  "language_info": {
   "codemirror_mode": {
    "name": "ipython",
    "version": 3
   },
   "file_extension": ".py",
   "mimetype": "text/x-python",
   "name": "python",
   "nbconvert_exporter": "python",
   "pygments_lexer": "ipython3",
   "version": "3.13.1"
  }
 },
 "nbformat": 4,
 "nbformat_minor": 5
}
